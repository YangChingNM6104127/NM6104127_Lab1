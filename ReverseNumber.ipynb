{
 "cells": [
  {
   "cell_type": "code",
   "execution_count": 15,
   "id": "49cfca77-1653-44ec-95bb-e823e1e9e2b1",
   "metadata": {},
   "outputs": [
    {
     "name": "stdin",
     "output_type": "stream",
     "text": [
      "Enter an integer 849563547\n"
     ]
    },
    {
     "name": "stdout",
     "output_type": "stream",
     "text": [
      "745365948\n"
     ]
    }
   ],
   "source": [
    "number=int(input('Enter an integer'))\n",
    "new_num=0\n",
    "def reverse(number):\n",
    "    global new_num\n",
    "    while (number!=0):  \n",
    "        Remainder= number % 10   # find the remainder\n",
    "        new_num= (new_num * 10) + Remainder  #new_num is to record the reverse number\n",
    "        number=number//10 #the rest number divides and redo the previous processing to find remainder \n",
    "    return new_num\n",
    "\n",
    "new_num=reverse(number)\n",
    "print(new_num)\n",
    "    \n",
    "    \n",
    "\n",
    "        "
   ]
  },
  {
   "cell_type": "code",
   "execution_count": 2,
   "id": "46e0b6d1-f26b-41b1-809e-84f98cfc6b06",
   "metadata": {},
   "outputs": [
    {
     "data": {
      "text/plain": [
       "159"
      ]
     },
     "execution_count": 2,
     "metadata": {},
     "output_type": "execute_result"
    }
   ],
   "source": [
    "\n"
   ]
  },
  {
   "cell_type": "code",
   "execution_count": null,
   "id": "8142da78-f20a-4125-b0c7-04d628bcf904",
   "metadata": {},
   "outputs": [],
   "source": []
  }
 ],
 "metadata": {
  "kernelspec": {
   "display_name": "Python 3",
   "language": "python",
   "name": "python3"
  },
  "language_info": {
   "codemirror_mode": {
    "name": "ipython",
    "version": 3
   },
   "file_extension": ".py",
   "mimetype": "text/x-python",
   "name": "python",
   "nbconvert_exporter": "python",
   "pygments_lexer": "ipython3",
   "version": "3.8.8"
  }
 },
 "nbformat": 4,
 "nbformat_minor": 5
}
