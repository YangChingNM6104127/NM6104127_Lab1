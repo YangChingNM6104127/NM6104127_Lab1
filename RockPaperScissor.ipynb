{
 "cells": [
  {
   "cell_type": "code",
   "execution_count": 1,
   "id": "ba080619-5e25-422c-9153-cc6793e3e89e",
   "metadata": {},
   "outputs": [
    {
     "name": "stdout",
     "output_type": "stream",
     "text": [
      "Welcome to ROCK,PAPER,SCISSOR game!\n"
     ]
    },
    {
     "name": "stdin",
     "output_type": "stream",
     "text": [
      "Enter your move: r\n"
     ]
    },
    {
     "name": "stdout",
     "output_type": "stream",
     "text": [
      "ROCK versus...\n",
      "PAPER\n",
      "You lose!\n"
     ]
    },
    {
     "name": "stdin",
     "output_type": "stream",
     "text": [
      "Enter your move: s\n"
     ]
    },
    {
     "name": "stdout",
     "output_type": "stream",
     "text": [
      "SCISSOR versus...\n",
      "PAPER\n",
      "You win!\n",
      "You have 0 ties 1 losses before your first win.\n"
     ]
    }
   ],
   "source": [
    "import random\n",
    "\n",
    "print('Welcome to ROCK,PAPER,SCISSOR game!')\n",
    "\n",
    "list1=['ROCK', 'PAPER', 'SCISSOR'] #the list which computer randomly chooses\n",
    "\n",
    "ROCK='r'\n",
    "PAPER='p'\n",
    "SCISSOR='s'\n",
    "\n",
    "tie_times=0 #count tie times\n",
    "lose_times=0 #count lose times\n",
    "\n",
    "check=True\n",
    "\n",
    "while(check):\n",
    "    movement=input('Enter your move:')\n",
    "    computer=random.choice ( list1 )\n",
    "    if movement=='r': #if user decides to have ROCK\n",
    "        print('ROCK versus...')\n",
    "        print(computer)\n",
    "        if(computer=='ROCK'):\n",
    "            print('It is a tie!')\n",
    "            tie_times+=1\n",
    "        elif(computer=='PAPER'):\n",
    "            print('You lose!')\n",
    "            lose_times+=1\n",
    "        else:\n",
    "            print('You win!')\n",
    "            print('You have',tie_times,'ties',lose_times,'losses before your first win.')\n",
    "            check=False\n",
    "    if movement=='p': #if user decides to have PAPER\n",
    "        print('PAPER versus...')\n",
    "        print(computer)\n",
    "        if(computer=='ROCK'):\n",
    "            print('You win!')\n",
    "            print('You have',tie_times,'ties',lose_times,'losses before your first win.')\n",
    "            check=False\n",
    "        elif(computer=='PAPER'):\n",
    "            print('It is a tie!')\n",
    "            tie_times+=1\n",
    "        else:\n",
    "            print('You lose!')\n",
    "            lose_times+=1\n",
    "    if movement=='s': #if user decides to have SCISSOR\n",
    "        print('SCISSOR versus...')\n",
    "        print(computer)\n",
    "        if(computer=='ROCK'):\n",
    "            print('You lose!')\n",
    "            lose_times+=1\n",
    "        elif(computer=='PAPER'):\n",
    "            print('You win!')\n",
    "            print('You have',tie_times,'ties',lose_times,'losses before your first win.')\n",
    "            check=False\n",
    "        else:\n",
    "            print('It is a tie!')\n",
    "            tie_times+=1\n",
    "            \n",
    "    \n"
   ]
  },
  {
   "cell_type": "code",
   "execution_count": null,
   "id": "30f64509-93d7-40fc-afed-d321289bf1bd",
   "metadata": {},
   "outputs": [],
   "source": []
  },
  {
   "cell_type": "code",
   "execution_count": null,
   "id": "32e6d0ee-6680-4215-a112-68a0e424d665",
   "metadata": {},
   "outputs": [],
   "source": []
  },
  {
   "cell_type": "code",
   "execution_count": null,
   "id": "9a7b3d1a-0db6-41ca-b4cb-9dcd4729d26d",
   "metadata": {},
   "outputs": [],
   "source": []
  }
 ],
 "metadata": {
  "kernelspec": {
   "display_name": "Python 3",
   "language": "python",
   "name": "python3"
  },
  "language_info": {
   "codemirror_mode": {
    "name": "ipython",
    "version": 3
   },
   "file_extension": ".py",
   "mimetype": "text/x-python",
   "name": "python",
   "nbconvert_exporter": "python",
   "pygments_lexer": "ipython3",
   "version": "3.8.8"
  }
 },
 "nbformat": 4,
 "nbformat_minor": 5
}
