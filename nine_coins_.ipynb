{
 "cells": [
  {
   "cell_type": "code",
   "execution_count": 73,
   "id": "728ae1dd-74ad-40da-9791-14d4cc55c5c0",
   "metadata": {},
   "outputs": [
    {
     "name": "stdout",
     "output_type": "stream",
     "text": [
      "Nine_Coins:HTTHTTTTH\n",
      "binary:110011111 and decimal:415\n"
     ]
    }
   ],
   "source": [
    "import random\n",
    "class Nine_Coins:\n",
    "    def __init__(self): #init pass \n",
    "#         self.ht_list=[]\n",
    "#         self.toss_int=0\n",
    "#         self.toss_decimal=0\n",
    "        pass\n",
    "    def toss(self): #toss definition\n",
    "        result=[0,1] #throwing coins has two options(0 for head, 1 for tail)\n",
    "        toss_result=[]\n",
    "        ht_list=[]\n",
    "        for i in range(9): #due to nine coins, do nine times to decide head or tail\n",
    "            head_tail=random.choice(result)\n",
    "            toss_result.append(head_tail)\n",
    "            \n",
    "            if head_tail==0: #ht_list列表(record:head or tail)\n",
    "                ht_list.append('H') \n",
    "            else:\n",
    "                ht_list.append('T')\n",
    "            ht_result_string = ''.join(ht_list) #convert into string\n",
    "          \n",
    "        return f\"Nine_Coins:{ht_result_string}\" \n",
    "    def __str__(self):\n",
    "        result=[0,1] #throwing coins has two options(0 for head, 1 for tail)\n",
    "        toss_result=[]\n",
    "        ht_list=[]\n",
    "        for i in range(9): #due to nine coins, do nine times to decide head or tail\n",
    "            head_tail=random.choice(result)\n",
    "            toss_result.append(head_tail)\n",
    "            \n",
    "            if head_tail==0: #ht_list列表(record:head or tail)\n",
    "                ht_list.append('H') \n",
    "            else:\n",
    "                ht_list.append('T')\n",
    "            ht_result_string = ''.join(ht_list) #convert into string\n",
    "            \n",
    "            toss_convert=[str(j)for j in toss_result]\n",
    "            toss_int=int(''.join(toss_convert)) #二進制並成int\n",
    "\n",
    "            toss_decimal=int(str(toss_int),2) #十進制\n",
    "        return f\"binary:{toss_int} and decimal:{toss_decimal}\"\n",
    "        \n",
    "  \n",
    "        \n",
    "\n",
    "c=Nine_Coins()\n",
    "print(c.toss())\n",
    "print(c)\n",
    "        "
   ]
  },
  {
   "cell_type": "code",
   "execution_count": null,
   "id": "1b74fe1c-f738-4eda-afa0-1740e95095de",
   "metadata": {},
   "outputs": [],
   "source": []
  },
  {
   "cell_type": "code",
   "execution_count": null,
   "id": "0c9c51b0-3dde-4af5-a371-a405bb1d2112",
   "metadata": {},
   "outputs": [],
   "source": []
  },
  {
   "cell_type": "code",
   "execution_count": null,
   "id": "da7ce400-792a-4b62-9a33-3d7919c64383",
   "metadata": {},
   "outputs": [],
   "source": []
  }
 ],
 "metadata": {
  "kernelspec": {
   "display_name": "Python 3",
   "language": "python",
   "name": "python3"
  },
  "language_info": {
   "codemirror_mode": {
    "name": "ipython",
    "version": 3
   },
   "file_extension": ".py",
   "mimetype": "text/x-python",
   "name": "python",
   "nbconvert_exporter": "python",
   "pygments_lexer": "ipython3",
   "version": "3.8.8"
  }
 },
 "nbformat": 4,
 "nbformat_minor": 5
}
