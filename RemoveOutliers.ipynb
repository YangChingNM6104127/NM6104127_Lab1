{
 "cells": [
  {
   "cell_type": "code",
   "execution_count": 55,
   "id": "fd0069d6-e938-4d29-918e-2ab7aebfd923",
   "metadata": {},
   "outputs": [
    {
     "name": "stdin",
     "output_type": "stream",
     "text": [
      "Enter the number of smallest and largest values to remove: 1\n",
      "Enter a value(q or Q to quit): 4\n",
      "Enter a value(q or Q to quit): 7\n",
      "Enter a value(q or Q to quit): 8\n",
      "Enter a value(q or Q to quit): 9\n",
      "Enter a value(q or Q to quit): 65\n",
      "Enter a value(q or Q to quit): 7\n",
      "Enter a value(q or Q to quit): 8\n",
      "Enter a value(q or Q to quit): 96\n",
      "Enter a value(q or Q to quit): Q\n"
     ]
    },
    {
     "name": "stdout",
     "output_type": "stream",
     "text": [
      "The original data: [4, 7, 8, 9, 65, 7, 8, 96]\n",
      "The data with the outliers removed: [7, 8, 9, 65, 7, 8]\n",
      "The outliners: [96, 4]\n"
     ]
    }
   ],
   "source": [
    "num_amount=int(input('Enter the number of smallest and largest values to remove:'))\n",
    "value_list=[]\n",
    "outliers_list=[]\n",
    "check=True\n",
    "while(check): #check the entering if is 'Q/q'\n",
    "    value=input('Enter a value(q or Q to quit):')\n",
    "    if(value=='q'or value =='Q'): #if 'Q/q', then stop\n",
    "        check=False\n",
    "    else: #if not, add the number to the value_list\n",
    "        value_list.append(int(value))\n",
    "        check=True\n",
    "print('The original data:',value_list)\n",
    "\n",
    "\n",
    "def remove_outliners(value_list,num_amount):\n",
    "    if(len(value_list)<num_amount*2): #check if the removing amount is larger than the entering,print'empty\n",
    "        print(\"empty\")\n",
    "    else: #if the removing amount is smaller or equal than the entering, print the whole result\n",
    "        for i in range(num_amount):\n",
    "            new_value_list=value_list\n",
    "#         print(new_value_list)\n",
    "            max_num=max(new_value_list)\n",
    "            min_num=min(new_value_list)\n",
    "            outliers_list.append(max_num)\n",
    "            outliers_list.append(min_num)\n",
    "            new_value_list.remove(max_num)\n",
    "            new_value_list.remove(min_num)\n",
    "        print('The data with the outliers removed:',new_value_list)\n",
    "        print('The outliners:',outliers_list)\n",
    "remove_outliners(value_list,num_amount)\n",
    "    \n",
    "        \n",
    "        \n",
    "  \n",
    "        "
   ]
  },
  {
   "cell_type": "code",
   "execution_count": null,
   "id": "8e466a4f-0fa4-477e-b640-9587cc87ff4b",
   "metadata": {},
   "outputs": [],
   "source": []
  }
 ],
 "metadata": {
  "kernelspec": {
   "display_name": "Python 3",
   "language": "python",
   "name": "python3"
  },
  "language_info": {
   "codemirror_mode": {
    "name": "ipython",
    "version": 3
   },
   "file_extension": ".py",
   "mimetype": "text/x-python",
   "name": "python",
   "nbconvert_exporter": "python",
   "pygments_lexer": "ipython3",
   "version": "3.8.8"
  }
 },
 "nbformat": 4,
 "nbformat_minor": 5
}
