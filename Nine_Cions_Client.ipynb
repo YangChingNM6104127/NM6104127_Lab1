{
 "cells": [
  {
   "cell_type": "code",
   "execution_count": 1,
   "id": "32a7d65b-0896-420b-a425-0992c06ddd7f",
   "metadata": {},
   "outputs": [
    {
     "name": "stdout",
     "output_type": "stream",
     "text": [
      "Nine_Coins: HHHHHHTTT\n",
      "binary:000000111 and decimal: 7\n",
      "Nine_Coins: TTHTTHTHT\n",
      "binary:110110101 and decimal: 437\n"
     ]
    }
   ],
   "source": [
    "import random\n",
    "import numpy\n",
    "from nine_coins import Nine_Coins\n",
    "\n",
    "c=Nine_Coins(7)\n",
    "c\n",
    "print(c)\n",
    "c.toss()\n",
    "c\n",
    "print(c)\n"
   ]
  },
  {
   "cell_type": "code",
   "execution_count": null,
   "id": "ac9bda18-e795-40fd-96c3-3af036065dbd",
   "metadata": {},
   "outputs": [],
   "source": []
  }
 ],
 "metadata": {
  "kernelspec": {
   "display_name": "Python 3",
   "language": "python",
   "name": "python3"
  },
  "language_info": {
   "codemirror_mode": {
    "name": "ipython",
    "version": 3
   },
   "file_extension": ".py",
   "mimetype": "text/x-python",
   "name": "python",
   "nbconvert_exporter": "python",
   "pygments_lexer": "ipython3",
   "version": "3.8.8"
  }
 },
 "nbformat": 4,
 "nbformat_minor": 5
}
